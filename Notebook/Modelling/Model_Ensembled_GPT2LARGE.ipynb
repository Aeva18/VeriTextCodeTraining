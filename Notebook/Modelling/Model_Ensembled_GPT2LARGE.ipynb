{
 "cells": [
  {
   "cell_type": "code",
   "execution_count": 1,
   "metadata": {},
   "outputs": [],
   "source": [
    "import pandas as pd\n",
    "from sklearn.ensemble import RandomForestClassifier\n",
    "from sklearn.metrics import classification_report, confusion_matrix,ConfusionMatrixDisplay\n",
    "import matplotlib.pyplot as plt\n",
    "\n",
    "from sklearn.ensemble import RandomForestClassifier, VotingClassifier\n",
    "from sklearn.linear_model import LogisticRegression\n",
    "from xgboost import XGBClassifier\n",
    "from lightgbm import LGBMClassifier\n",
    "from catboost import CatBoostClassifier"
   ]
  },
  {
   "cell_type": "code",
   "execution_count": 3,
   "metadata": {},
   "outputs": [],
   "source": [
    "df_train = pd.read_csv(\"../../Data/Train.csv\")\n",
    "df_test = pd.read_csv(\"../../Data/Test.csv\")"
   ]
  },
  {
   "cell_type": "code",
   "execution_count": null,
   "metadata": {},
   "outputs": [
    {
     "name": "stdout",
     "output_type": "stream",
     "text": [
      "<class 'pandas.core.frame.DataFrame'>\n",
      "RangeIndex: 384350 entries, 0 to 384349\n",
      "Data columns (total 29 columns):\n",
      " #   Column                     Non-Null Count   Dtype  \n",
      "---  ------                     --------------   -----  \n",
      " 0   Unnamed: 0                 384350 non-null  int64  \n",
      " 1   text                       384350 non-null  object \n",
      " 2   source                     384350 non-null  object \n",
      " 3   prompt_id                  384350 non-null  int64  \n",
      " 4   text_length                384350 non-null  int64  \n",
      " 5   word_count                 384350 non-null  int64  \n",
      " 6   label                      384350 non-null  int64  \n",
      " 7   gpt-neo-125m-text_ppl      384350 non-null  float64\n",
      " 8   gpt-neo-125m-max_sent_ppl  384350 non-null  float64\n",
      " 9   gpt-neo-125m-sent_ppl_avg  384350 non-null  float64\n",
      " 10  gpt-neo-125m-sent_ppl_std  384350 non-null  float64\n",
      " 11  gpt-neo-125m-max_step_ppl  384350 non-null  float64\n",
      " 12  gpt-neo-125m-step_ppl_avg  384350 non-null  float64\n",
      " 13  gpt-neo-125m-step_ppl_std  384350 non-null  float64\n",
      " 14  gpt-neo-125m-rank_0        384350 non-null  float64\n",
      " 15  gpt-neo-125m-rank_10       384350 non-null  float64\n",
      " 16  gpt-neo-125m-rank_100      384350 non-null  float64\n",
      " 17  gpt-neo-125m-rank_1000     384350 non-null  float64\n",
      " 18  gpt2-large-text_ppl        384350 non-null  float64\n",
      " 19  gpt2-large-max_sent_ppl    384350 non-null  float64\n",
      " 20  gpt2-large-sent_ppl_avg    384350 non-null  float64\n",
      " 21  gpt2-large-sent_ppl_std    384350 non-null  float64\n",
      " 22  gpt2-large-max_step_ppl    384350 non-null  float64\n",
      " 23  gpt2-large-step_ppl_avg    384350 non-null  float64\n",
      " 24  gpt2-large-step_ppl_std    384350 non-null  float64\n",
      " 25  gpt2-large-rank_0          384350 non-null  float64\n",
      " 26  gpt2-large-rank_10         384350 non-null  float64\n",
      " 27  gpt2-large-rank_100        384350 non-null  float64\n",
      " 28  gpt2-large-rank_1000       384350 non-null  float64\n",
      "dtypes: float64(22), int64(5), object(2)\n",
      "memory usage: 85.0+ MB\n"
     ]
    }
   ],
   "source": [
    "df_train.info()"
   ]
  },
  {
   "cell_type": "code",
   "execution_count": 5,
   "metadata": {},
   "outputs": [
    {
     "data": {
      "text/plain": [
       "source\n",
       "Human                       169144\n",
       "GPT-3.5                      25349\n",
       "Text-Davinci-003             11234\n",
       "Text-Davinci-002             10451\n",
       "OPT-1.3B                      9010\n",
       "                             ...  \n",
       "Dolphin-Mixtral-8x7B           209\n",
       "Toppy-M-7B                     205\n",
       "LLaMA-2-7B                     194\n",
       "Cohere-Command                 176\n",
       "Dolphin-2.5-Mixtral-8x7B       110\n",
       "Name: count, Length: 63, dtype: int64"
      ]
     },
     "execution_count": 5,
     "metadata": {},
     "output_type": "execute_result"
    }
   ],
   "source": [
    "df_train.source.value_counts()"
   ]
  },
  {
   "cell_type": "code",
   "execution_count": 12,
   "metadata": {},
   "outputs": [],
   "source": [
    "x_train = df_train.drop(['Unnamed: 0','text', 'source', 'prompt_id', 'text_length', 'word_count', 'label','gpt-neo-125m-text_ppl'\n",
    ", 'gpt-neo-125m-max_sent_ppl'\n",
    ", 'gpt-neo-125m-sent_ppl_avg'\n",
    ", 'gpt-neo-125m-sent_ppl_std'\n",
    ", 'gpt-neo-125m-max_step_ppl'\n",
    ", 'gpt-neo-125m-step_ppl_avg'\n",
    ", 'gpt-neo-125m-step_ppl_std'\n",
    ", 'gpt-neo-125m-rank_0'\n",
    ", 'gpt-neo-125m-rank_10'\n",
    ", 'gpt-neo-125m-rank_100'\n",
    ", 'gpt-neo-125m-rank_1000'], axis = 1)\n",
    "\n",
    "y_train = df_train[['label']]\n",
    "\n",
    "x_test = df_test.drop(['Unnamed: 0','text', 'source', 'prompt_id', 'text_length', 'word_count', 'label','gpt-neo-125m-text_ppl'\n",
    ", 'gpt-neo-125m-max_sent_ppl'\n",
    ", 'gpt-neo-125m-sent_ppl_avg'\n",
    ", 'gpt-neo-125m-sent_ppl_std'\n",
    ", 'gpt-neo-125m-max_step_ppl'\n",
    ", 'gpt-neo-125m-step_ppl_avg'\n",
    ", 'gpt-neo-125m-step_ppl_std'\n",
    ", 'gpt-neo-125m-rank_0'\n",
    ", 'gpt-neo-125m-rank_10'\n",
    ", 'gpt-neo-125m-rank_100'\n",
    ", 'gpt-neo-125m-rank_1000'], axis = 1)\n",
    "\n",
    "y_test = df_test[['label']]\n"
   ]
  },
  {
   "cell_type": "code",
   "execution_count": 15,
   "metadata": {},
   "outputs": [
    {
     "name": "stderr",
     "output_type": "stream",
     "text": [
      "/Users/t-andrew.widjaya/Documents/Thesis/.venv/lib/python3.9/site-packages/sklearn/preprocessing/_label.py:97: DataConversionWarning: A column-vector y was passed when a 1d array was expected. Please change the shape of y to (n_samples, ), for example using ravel().\n",
      "  y = column_or_1d(y, warn=True)\n",
      "/Users/t-andrew.widjaya/Documents/Thesis/.venv/lib/python3.9/site-packages/sklearn/preprocessing/_label.py:132: DataConversionWarning: A column-vector y was passed when a 1d array was expected. Please change the shape of y to (n_samples, ), for example using ravel().\n",
      "  y = column_or_1d(y, dtype=self.classes_.dtype, warn=True)\n",
      "/Users/t-andrew.widjaya/Documents/Thesis/.venv/lib/python3.9/site-packages/joblib/externals/loky/backend/fork_exec.py:38: RuntimeWarning: Using fork() can cause Polars to deadlock in the child process.\n",
      "In addition, using fork() with Python in general is a recipe for mysterious\n",
      "deadlocks and crashes.\n",
      "\n",
      "The most likely reason you are seeing this error is because you are using the\n",
      "multiprocessing module on Linux, which uses fork() by default. This will be\n",
      "fixed in Python 3.14. Until then, you want to use the \"spawn\" context instead.\n",
      "\n",
      "See https://docs.pola.rs/user-guide/misc/multiprocessing/ for details.\n",
      "\n",
      "  pid = os.fork()\n"
     ]
    },
    {
     "name": "stdout",
     "output_type": "stream",
     "text": [
      "[LightGBM] [Info] Number of positive: 215206, number of negative: 169144\n",
      "[LightGBM] [Info] Auto-choosing col-wise multi-threading, the overhead of testing was 0.012381 seconds.\n",
      "You can set `force_col_wise=true` to remove the overhead.\n",
      "[LightGBM] [Info] Total Bins 2589\n",
      "[LightGBM] [Info] Number of data points in the train set: 384350, number of used features: 11\n",
      "[LightGBM] [Info] [binary:BoostFromScore]: pavg=0.559922 -> initscore=0.240845\n",
      "[LightGBM] [Info] Start training from score 0.240845\n"
     ]
    }
   ],
   "source": [
    "xgb     = XGBClassifier()\n",
    "lgb     = LGBMClassifier()\n",
    "cat     = CatBoostClassifier()\n",
    "rfr     = RandomForestClassifier()\n",
    "clf     = VotingClassifier(\n",
    "    n_jobs=-1,\n",
    "    voting='soft',\n",
    "    estimators=[('xgb', xgb), ('lgb', lgb), ('cat', cat), ('rfr', rfr)]\n",
    ").fit(x_train, y_train)"
   ]
  },
  {
   "cell_type": "code",
   "execution_count": 17,
   "metadata": {},
   "outputs": [
    {
     "name": "stdout",
     "output_type": "stream",
     "text": [
      "              precision    recall  f1-score   support\n",
      "\n",
      "           0       0.92      0.84      0.88      5000\n",
      "           1       0.85      0.92      0.89      5000\n",
      "\n",
      "    accuracy                           0.88     10000\n",
      "   macro avg       0.88      0.88      0.88     10000\n",
      "weighted avg       0.88      0.88      0.88     10000\n",
      "\n"
     ]
    }
   ],
   "source": [
    "y_pred = clf.predict(x_test)\n",
    "\n",
    "print(classification_report(y_test,y_pred))"
   ]
  },
  {
   "cell_type": "code",
   "execution_count": 20,
   "metadata": {},
   "outputs": [
    {
     "data": {
      "image/png": "[encoded data removed]",
      "text/plain": [
       "<Figure size 640x480 with 2 Axes>"
      ]
     },
     "metadata": {},
     "output_type": "display_data"
    }
   ],
   "source": [
    "# Generate the confusion matrix\n",
    "cm = confusion_matrix(y_test, y_pred)\n",
    "\n",
    "# Display the confusion matrix using ConfusionMatrixDisplay\n",
    "disp = ConfusionMatrixDisplay(confusion_matrix=cm, display_labels=[0, 1])\n",
    "disp.plot(cmap=\"Blues\")  # Use a color map for visualization\n",
    "plt.title(\"Confusion Matrix\")\n",
    "plt.show()"
   ]
  }
 ],
 "metadata": {
  "kernelspec": {
   "display_name": ".venv",
   "language": "python",
   "name": "python3"
  },
  "language_info": {
   "codemirror_mode": {
    "name": "ipython",
    "version": 3
   },
   "file_extension": ".py",
   "mimetype": "text/x-python",
   "name": "python",
   "nbconvert_exporter": "python",
   "pygments_lexer": "ipython3",
   "version": "3.9.20"
  }
 },
 "nbformat": 4,
 "nbformat_minor": 2
}
